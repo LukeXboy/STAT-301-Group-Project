{
 "cells": [
  {
   "cell_type": "markdown",
   "id": "863a3337-4bfa-408f-9ebd-1a892527be63",
   "metadata": {},
   "source": [
    "# Project Title"
   ]
  },
  {
   "cell_type": "markdown",
   "id": "a5f32802-b246-451f-95d3-ab92168001d4",
   "metadata": {},
   "source": [
    "## Introduction"
   ]
  },
  {
   "cell_type": "markdown",
   "id": "282434bd-10ee-4516-abd0-ec2450b5c1f8",
   "metadata": {},
   "source": [
    "Background:  With the improvement of society, people care more about their personal health and are willing to spend more money on health insurance. Medical costs may be affected by factors such as age, sex, and so on. Out of interest in this topic, our group selected this data set to make an analysis.\n",
    "\n",
    "Research Question:  we are interested in what would be our best model in order to accurately predict the medical costs.\n",
    "\n",
    "Data Overview: The data set contains one response variable, “charges”; and six explanatory variables, which are “age”, “sex”, “bmi”(Body mass index), “children”, “smoker”, and “region”, repectively. “Age”, “bmi” and “children” are continuous variables, and the other three variables are categorical. The factor “sex” and “smoker” have two levels, and the factor “region” has 4 levels. \n",
    "A linear regression model will be fitted to the dataset and we are going to explore how the different variables affect the model. Model selection methods will be applied in order to find the best model to make predictions."
   ]
  },
  {
   "cell_type": "markdown",
   "id": "2f2a9789-ed5c-4c14-8de8-2aef2fd9b427",
   "metadata": {},
   "source": [
    "## Preliminary Results"
   ]
  },
  {
   "cell_type": "markdown",
   "id": "5defc4d5-43a1-473b-b083-cd72edb9c0a5",
   "metadata": {},
   "source": [
    "### Importing Modules"
   ]
  },
  {
   "cell_type": "code",
   "execution_count": 1,
   "id": "eff8ab04-6f43-49a6-940c-a53d097db7ae",
   "metadata": {},
   "outputs": [
    {
     "ename": "ERROR",
     "evalue": "Error in parse(text = x, srcfile = src): <text>:17:0: unexpected end of input\n15: library(AER)\n16: library(math\n   ^\n",
     "output_type": "error",
     "traceback": [
      "Error in parse(text = x, srcfile = src): <text>:17:0: unexpected end of input\n15: library(AER)\n16: library(math\n   ^\nTraceback:\n"
     ]
    }
   ],
   "source": [
    "library(broom)\n",
    "library(latex2exp)\n",
    "library(tidyverse)\n",
    "library(repr)\n",
    "library(digest)\n",
    "library(gridExtra)\n",
    "library(faraway)\n",
    "library(mltools)\n",
    "library(leaps)\n",
    "library(glmnet)\n",
    "library(cowplot)\n",
    "library(GGally)\n",
    "library(infer)\n",
    "library(cowplot)\n",
    "library(AER)\n",
    "library(math"
   ]
  },
  {
   "cell_type": "markdown",
   "id": "2866e700-ab54-4d9d-b957-a9cbda5a1ec6",
   "metadata": {},
   "source": [
    "### Downloading Dataset"
   ]
  },
  {
   "cell_type": "code",
   "execution_count": null,
   "id": "f698a662-e3c5-400f-8760-098b71c8ad43",
   "metadata": {},
   "outputs": [],
   "source": [
    "insurance <- read_csv(\"https://raw.githubusercontent.com/LukeXboy/STAT-301-Group-Project/main/insurance.csv\")\n",
    "head(insurance)"
   ]
  },
  {
   "cell_type": "markdown",
   "id": "a4be46f7-ee27-4629-88d8-3cb57e1158ab",
   "metadata": {},
   "source": [
    "*Figure 1.1: Preview of Orginial Insurance Dataset*"
   ]
  },
  {
   "cell_type": "markdown",
   "id": "cdd3ae48-0c8a-4646-8d2d-773d8df23f6f",
   "metadata": {},
   "source": [
    "### Feature Descriptions and Wrangling the Dataset"
   ]
  },
  {
   "cell_type": "markdown",
   "id": "fc23db4e-5262-4d06-b228-1da571b0fc15",
   "metadata": {},
   "source": [
    "We look into the features of the dataset to see if we can wrangle the raw data into more comprehensable and useable forms.\n",
    "\n",
    "The dataset contains the following variables relating to the patient:\n",
    "- age\n",
    "- sex\n",
    "- bmi: Represents the Body Mass Index\n",
    "- children: Number of children or dependents covered by the health insurance\n",
    "- smoker: If the patient is a smoker\n",
    "- region: Beneficiary's residentual area in the United States of America\n",
    "- charges: Individual medical costs billed by the health insurance company\n",
    "\n",
    "The features age, sex, bmi, children, smoker, and region are independent features or input variables in the dataset whereas charges is a dependent feature or a response variable. "
   ]
  },
  {
   "cell_type": "code",
   "execution_count": null,
   "id": "90039a0d-f07e-475d-afaa-2c986e3cbbf4",
   "metadata": {},
   "outputs": [],
   "source": [
    "#Produces further information about the feature values within the dataset\n",
    "summary(insurance)"
   ]
  },
  {
   "cell_type": "markdown",
   "id": "e94247cd-05cd-4c61-899f-d17b736b8935",
   "metadata": {},
   "source": [
    "The output of the summary state us that age, bmi, children, and charges are continous variables in the dataset, and that there remaining variables, sex, smoker, and region are variables of type character. However, Figure 1.1 suggests that some of the variables in the dataset could be better represented as categorical variables for the purposes of our proposal; thus, we further analyze the feature values for the variables sex, children, smoker, and region."
   ]
  },
  {
   "cell_type": "code",
   "execution_count": null,
   "id": "8662c931-c63c-46a9-8660-58d824ccfc18",
   "metadata": {},
   "outputs": [],
   "source": [
    "#Mutating the features to be categorical variables for further analysis\n",
    "insurance_factor <- insurance %>%\n",
    "    mutate(sex = as.factor(sex)) %>%\n",
    "    mutate(children = as.factor(children)) %>%\n",
    "    mutate(smoker = as.factor(smoker)) %>%\n",
    "    mutate(region = as.factor(region)) \n",
    "\n",
    "head(insurance_factor)\n",
    "\n",
    "#To check the feature values after mutating the variables\n",
    "summary(insurance_factor)"
   ]
  },
  {
   "cell_type": "markdown",
   "id": "07eb9719-632f-4bd3-885c-a5c2c65d436f",
   "metadata": {},
   "source": [
    "*Figure 1.2 (top): Preview of Insurance Dataset with Mutated Categorical Variables*"
   ]
  },
  {
   "cell_type": "markdown",
   "id": "fa8ea2a0-1d52-4516-af2c-5d00ed7f4d72",
   "metadata": {},
   "source": [
    "After further analyzing the unique feature values for the variables sex, children, smoker, and region, it is clear that there are discrete values or levels for these variables. We confirm our speculations and implement the changes of wrangling the data set by mutating the variables to be categorical."
   ]
  },
  {
   "cell_type": "code",
   "execution_count": null,
   "id": "dce70a7b-eb09-4459-9864-76783b10ce8c",
   "metadata": {},
   "outputs": [],
   "source": [
    "#Implementing changes\n",
    "insurance <- insurance_factor\n",
    "\n",
    "#Printing number of rows related to the database\n",
    "cat(\"Number of instances in the insurance dataset: \", nrow(insurance), \"\\n\")\n",
    "cat(\"Number of instances with missing values in the dataset: \", sum(is.na(insurance)), \"\\n\")"
   ]
  },
  {
   "cell_type": "markdown",
   "id": "68fdecad-bd43-4eb1-a25d-e243505e7bd3",
   "metadata": {},
   "source": [
    "Our dataset is now wrangled to accurately represent our data and contains no missing values, and ready to be split into the training and testing sets."
   ]
  },
  {
   "cell_type": "markdown",
   "id": "a93b8e44-223d-40de-a236-b28e8ece6323",
   "metadata": {},
   "source": [
    "### Splitting Data into Training and Testing Sets"
   ]
  },
  {
   "cell_type": "code",
   "execution_count": null,
   "id": "25b62097-d3d3-4560-8c2c-ce48968c6983",
   "metadata": {},
   "outputs": [],
   "source": [
    "#Splitting the Data by Labelling Dataset by ID\n",
    "set.seed(123456)\n",
    "insurance$ID <- rownames(insurance)\n",
    "insurance_training <- sample_n(insurance, size = nrow(insurance) * 0.70, replace = FALSE)\n",
    "insurance_testing <- anti_join(insurance, insurance_training, by = \"ID\")\n",
    "\n",
    "insurance_training <- select(insurance_training, -ID)\n",
    "insurance_testing <- select(insurance_testing, -ID)\n",
    "\n",
    "head(insurance_training)\n",
    "head(insurance_testing)"
   ]
  },
  {
   "cell_type": "markdown",
   "id": "1b3f220f-a8a2-49ea-b50b-8396ebdfdb60",
   "metadata": {},
   "source": [
    "*Figure 1.3 (top): Preview of the training set of the dataset* \n",
    "\n",
    "*Figure 1.3 (bottom): Preview of the testing set of the dataset*"
   ]
  },
  {
   "cell_type": "code",
   "execution_count": null,
   "id": "bdb1ce67-3f7f-4d13-b002-7dbc0c7b55cc",
   "metadata": {},
   "outputs": [],
   "source": [
    "#Printing number of rows within the split dataset\n",
    "cat(\"Number of instances in the training set: \", nrow(insurance_training), \"\\n\")\n",
    "cat(\"Number of instances in the testing set: \", nrow(insurance_testing), \"\\n\")"
   ]
  },
  {
   "cell_type": "markdown",
   "id": "ab681af1-957e-4469-960f-d8cae3cdf1f9",
   "metadata": {},
   "source": [
    "We split the dataset into a training and testing set as our project proposes to produce a predictive model which predicts charges on the new observations of patients. "
   ]
  },
  {
   "cell_type": "markdown",
   "id": "d6960b54-410b-4984-9567-569579ba8eb0",
   "metadata": {},
   "source": [
    "### Variable Distributions and Correlations"
   ]
  },
  {
   "cell_type": "code",
   "execution_count": null,
   "id": "73adf791-d7ff-4f59-9c19-09e3c1dca9ca",
   "metadata": {},
   "outputs": [],
   "source": [
    "#Histogram to Visualize Training Set Response Variable's, Charges, Distribution\n",
    "options(repr.plot.width = 10, repr.plot.height = 8)\n",
    "charges_hist <- insurance_training %>%\n",
    "    ggplot(aes(x = charges)) + \n",
    "    geom_histogram(bins = 25, boundary = 0, colour = 'white') +\n",
    "    labs(title = \"Training Set Distribution of Patient's Medical Costs\", \n",
    "         x = \"Charges (USD)\") +\n",
    "    theme(text = element_text(size = 16)) +\n",
    "    geom_vline(xintercept = mean(insurance$charges), colour = 'red', size = 3) \n",
    "charges_hist"
   ]
  },
  {
   "cell_type": "markdown",
   "id": "b9e7ee98-5b9b-4158-b265-acd0f107c85a",
   "metadata": {},
   "source": [
    "*Figure 1.4: Histogram Displaying Training Set Distribution of Response Variable within Training , Charges, which represents the Medical Costs of the Patient. The red vertical line indicates the mean.*"
   ]
  },
  {
   "cell_type": "code",
   "execution_count": null,
   "id": "c1f13e5a-6118-4ec6-b68c-c8c1c8ed26cf",
   "metadata": {},
   "outputs": [],
   "source": [
    "#Comparing Distribution of Input Variables to the Response Variable\n",
    "options(repr.plot.width = 12, repr.plot.height = 8)\n",
    "charges_dist_all <- insurance_training %>%\n",
    "  ggduo(1:6, 7) +\n",
    "  labs(title = \"Distribution of Input Variables vs. Charges\",\n",
    "       x = \"Input Variables\",\n",
    "       y = \"Charges (USD)\") +\n",
    "  theme(\n",
    "    text = element_text(size = 15),\n",
    "    plot.title = element_text(face = \"bold\"),\n",
    "    axis.title = element_text(face = \"bold\"),\n",
    "    axis.text.x = element_text(angle = 45, vjust = 1, hjust=1) #To ensure labels do not overlap\n",
    "  )\n",
    "charges_dist_all"
   ]
  },
  {
   "cell_type": "markdown",
   "id": "2e3e9cbf-400c-465e-8af1-1aa969517299",
   "metadata": {},
   "source": [
    "*Figure 1.4: Distribution of All Input Variables in the Training Dataset Against Charges, the Response Variable*"
   ]
  },
  {
   "cell_type": "markdown",
   "id": "1095c62c-e77c-4a7a-b905-3ff6962524c9",
   "metadata": {},
   "source": [
    "We analyze the distribution of our variables compared to the response variable, charges, and we notice that charges itself has a left skewed distribution. When comparing our response to our categorical variables, the level's of the variable smoker, which indicates if the patient smokes or not, showed the greatest variation across charges. The numerical variables showcase interesting trends in respective to the charges variable; however, we will look further into the correlation of the variables as a preview of whether or not our variables are independent and/or violate multicolinearity."
   ]
  },
  {
   "cell_type": "code",
   "execution_count": null,
   "id": "d75f0a20-b429-4e9f-95fe-914cf80282d8",
   "metadata": {},
   "outputs": [],
   "source": [
    "#Computing Correlation Coefficients Across Continous Input Variables\n",
    "cat(\"Correlation between the numeric type input variables, age and bmi: \", round(cor(insurance_training$age, insurance_training$bmi), 5))"
   ]
  },
  {
   "cell_type": "markdown",
   "id": "b6ee6a25-e558-4d7c-a461-136669ca5311",
   "metadata": {},
   "source": [
    "Within the scope of the course, the correlation coefficient only applies to continous variables; thus we only analyze the correlations across the numeric type variables in our dataset. If provided the resources and ability to improve the course at a later point, correlations acorss non-numeric variables, such as Cramer's V and phi coefficient, can be researched and applied, and such information could possibly improve our model. \n",
    "\n",
    "The input variables age and bmi showcase a correlation of 0.10197 meaning the variables are weakly positively correlated which provides the assumption that there is no multicollinearity in the dataset. Therefore, the continous variables are not dependent on each other and thus would not decrease the precision of our estimated regression coefficients. During the project we will confirm this assumption through computing the Variance Inflation Factors for the input variables. "
   ]
  },
  {
   "cell_type": "markdown",
   "id": "8a8105d6-bc0e-4c04-9230-8d0c9c66cb9e",
   "metadata": {},
   "source": [
    "## Preliminary Estimates "
   ]
  },
  {
   "cell_type": "code",
   "execution_count": null,
   "id": "1a4e3d4d-3262-423c-b474-b2e519e12be4",
   "metadata": {},
   "outputs": [],
   "source": [
    "#Computing Expected Value of Response Variable\n",
    "charges_mean <- mean(insurance_training$charges)\n",
    "cat(\"Expected value of charges, E[Y]: \", charges_mean)"
   ]
  },
  {
   "cell_type": "markdown",
   "id": "57131fd4-5811-420c-8f8d-c7eae247213c",
   "metadata": {},
   "source": [
    "A baseline model is a simple model that acts as a reference, and within our project it is a model that predicts the response variable without any extra information. The baseline model's best prediction of the response is the sample mean of Y. Throughout our proposed project, we are to build a model which will predict or regress the response with some number of inputs that are to be selected through feature selection, which performs better than our better than nothing, intercept only, model. "
   ]
  },
  {
   "cell_type": "markdown",
   "id": "15298cf3-5a7b-4431-a033-a4847c551c2a",
   "metadata": {},
   "source": [
    "## Methods: Plan"
   ]
  },
  {
   "cell_type": "markdown",
   "id": "f83971ad-607f-43b9-96d8-4d3a7c78a743",
   "metadata": {},
   "source": [
    "As mentioned in the introduction part, we will apply some ideas of multiple linear regression and find the best model to predict the individual medical costs (health insurance) based on the data we have. Since we are building a predictive model, we might split the data set into a training set (for model construction) and testing set (for model prediction). We will use some parameters like R^2, adjusted R^2, Cp, BIC… to see if our model fits the data well and do some tests (ep. F-test) to decide what model we should use. We expect to build a MLR model which could accurately predict a person’s medical costs given some inputs (personal information). Hopefully, our projection results could help some medical organisations or even the government decide their financial assignment.\n",
    "\n"
   ]
  },
  {
   "cell_type": "markdown",
   "id": "c49dd0e0-f4e4-499e-a2f1-04101e0bb06c",
   "metadata": {},
   "source": [
    "## References"
   ]
  },
  {
   "cell_type": "markdown",
   "id": "beb7fb27-480a-449b-92ff-13e149b35db9",
   "metadata": {},
   "source": [
    "Huang, J. Z. (2014). An introduction to statistical learning: With applications in R by gareth james, trevor hastie, robert tibshirani, daniela witten. Journal of Agricultural, Biological, and Environmental Statistics, 19(4), 419. https://doi.org/10.1007/s13253-014-0179-9\n",
    "\n",
    "Lantz, B., & O'Reilly for Higher Education. (2015). Machine learning with R: Discover how to build machine learning algorithms, prepare data, and dig deep into data prediction techniques with R. Packt Publishing.\n"
   ]
  }
 ],
 "metadata": {
  "kernelspec": {
   "display_name": "R",
   "language": "R",
   "name": "ir"
  },
  "language_info": {
   "codemirror_mode": "r",
   "file_extension": ".r",
   "mimetype": "text/x-r-source",
   "name": "R",
   "pygments_lexer": "r",
   "version": "4.1.3"
  },
  "toc-showtags": false
 },
 "nbformat": 4,
 "nbformat_minor": 5
}
